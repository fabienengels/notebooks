{
 "cells": [
  {
   "cell_type": "code",
   "execution_count": 2,
   "id": "c668de25",
   "metadata": {},
   "outputs": [],
   "source": [
    "from obspy.clients.fdsn.client import Client"
   ]
  },
  {
   "cell_type": "code",
   "execution_count": 3,
   "id": "f243d59f",
   "metadata": {},
   "outputs": [],
   "source": [
    "# Set up the client to use FranceSeisme API\n",
    "client = Client(base_url='https://api.franceseisme.fr', service_mappings={'station': None, 'dataselect': None})"
   ]
  },
  {
   "cell_type": "code",
   "execution_count": 4,
   "id": "5a9eebb0",
   "metadata": {},
   "outputs": [
    {
     "data": {
      "text/plain": [
       "30 Event(s) in Catalog:\n",
       "2021-11-17T07:38:53.654828Z |  -4.459, +153.365 | 5.444342422 mb | automatic\n",
       "2021-11-17T05:54:31.730195Z | +33.544, +120.952 | 5.020547722 mb | automatic\n",
       "...\n",
       "2021-11-16T09:57:37.809733Z | +43.804,   +7.397 | 1.340176876 MLv | manual\n",
       "2021-11-16T09:57:36.040891Z | +44.434,   +4.259 | 1.505264883 MLv | manual\n",
       "To see all events call 'print(CatalogObject.__str__(print_all=True))'"
      ]
     },
     "execution_count": 4,
     "metadata": {},
     "output_type": "execute_result"
    }
   ],
   "source": [
    "# Get the last 30 events\n",
    "client.get_events(limit=30)"
   ]
  },
  {
   "cell_type": "code",
   "execution_count": 5,
   "id": "de46c716",
   "metadata": {},
   "outputs": [
    {
     "data": {
      "text/plain": [
       "1 Event(s) in Catalog:\n",
       "2019-11-11T10:52:45.840246Z | +44.526,   +4.642 | 5.201028883 MLv | manual"
      ]
     },
     "execution_count": 5,
     "metadata": {},
     "output_type": "execute_result"
    }
   ],
   "source": [
    "# Retrieve Tiel earthquake\n",
    "client.get_events(eventid='fr2019clftsg')"
   ]
  },
  {
   "cell_type": "code",
   "execution_count": null,
   "id": "68d87fea",
   "metadata": {},
   "outputs": [],
   "source": []
  }
 ],
 "metadata": {
  "kernelspec": {
   "display_name": "Python 3 (ipykernel)",
   "language": "python",
   "name": "python3"
  },
  "language_info": {
   "codemirror_mode": {
    "name": "ipython",
    "version": 3
   },
   "file_extension": ".py",
   "mimetype": "text/x-python",
   "name": "python",
   "nbconvert_exporter": "python",
   "pygments_lexer": "ipython3",
   "version": "3.9.7"
  }
 },
 "nbformat": 4,
 "nbformat_minor": 5
}
